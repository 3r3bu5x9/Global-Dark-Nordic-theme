{
 "cells": [
  {
   "cell_type": "code",
   "execution_count": 1,
   "metadata": {
    "code_folding": []
   },
   "outputs": [
    {
     "name": "stdout",
     "output_type": "stream",
     "text": [
      "34 = 11 x 3 + 1\n",
      "3 = 3 x 1 + 0\n"
     ]
    },
    {
     "data": {
      "text/plain": [
       "1"
      ]
     },
     "execution_count": 1,
     "metadata": {},
     "output_type": "execute_result"
    }
   ],
   "source": [
    "def gcd(a, b):\n",
    "    if a < b:\n",
    "        a, b = b, a\n",
    "    qn = int(a/b)\n",
    "    rn = a % b\n",
    "    print(f'{a} = {qn} x {b} + {rn}')\n",
    "    if rn != 0:\n",
    "        qn1 = int(b/rn)\n",
    "        rn1 = b % rn\n",
    "        print(f'{b} = {qn1} x {rn} + {rn1}')\n",
    "        if rn1 != 0:\n",
    "            while True:\n",
    "                qn2 = int(rn/rn1)\n",
    "                rn2 = rn % rn1\n",
    "                print(f'{rn} = {qn2} x {rn1} + {rn2}')\n",
    "                if rn2 == 0:\n",
    "                    break\n",
    "                else:\n",
    "                    rn = rn1\n",
    "                    rn1 = rn2\n",
    "            return rn1\n",
    "        else:\n",
    "            return rn\n",
    "    else:\n",
    "        return b\n",
    "    return\n",
    "gcd(3,34)"
   ]
  },
  {
   "cell_type": "code",
   "execution_count": null,
   "metadata": {},
   "outputs": [],
   "source": []
  }
 ],
 "metadata": {
  "kernelspec": {
   "display_name": "Python 3",
   "language": "python",
   "name": "python3"
  },
  "language_info": {
   "codemirror_mode": {
    "name": "ipython",
    "version": 3
   },
   "file_extension": ".py",
   "mimetype": "text/x-python",
   "name": "python",
   "nbconvert_exporter": "python",
   "pygments_lexer": "ipython3",
   "version": "3.7.4"
  },
  "latex_envs": {
   "LaTeX_envs_menu_present": true,
   "autoclose": true,
   "autocomplete": true,
   "bibliofile": "biblio.bib",
   "cite_by": "apalike",
   "current_citInitial": 1,
   "eqLabelWithNumbers": true,
   "eqNumInitial": 1,
   "hotkeys": {
    "equation": "Ctrl-E",
    "itemize": "Ctrl-I"
   },
   "labels_anchors": false,
   "latex_user_defs": false,
   "report_style_numbering": false,
   "user_envs_cfg": false
  }
 },
 "nbformat": 4,
 "nbformat_minor": 2
}
