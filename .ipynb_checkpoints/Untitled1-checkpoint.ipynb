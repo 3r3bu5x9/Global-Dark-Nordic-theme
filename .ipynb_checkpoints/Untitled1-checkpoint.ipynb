{
 "cells": [
  {
   "cell_type": "code",
   "execution_count": 12,
   "metadata": {},
   "outputs": [
    {
     "name": "stdout",
     "output_type": "stream",
     "text": [
      "1\n",
      "5\n",
      "asd 1\n",
      "asd 0\n",
      "asd 0\n",
      "asd 1\n",
      "efr 1\n",
      "3\n"
     ]
    }
   ],
   "source": [
    "for t in range(int(input())):\n",
    "    N = int(input())\n",
    "    l = []\n",
    "    c = 0\n",
    "    for n in range(N):\n",
    "        l += [input().split(' ')]\n",
    "    searched = ['#']\n",
    "    for i in range(N):\n",
    "        flag,b = l[i][0],l[i][1]\n",
    "        if flag not in searched:\n",
    "            searched += [flag]\n",
    "            for j in range(i,N):\n",
    "                if flag == l[j][0]:\n",
    "                    if b == l[j][1]:\n",
    "                        c += 1\n",
    "    print(c)"
   ]
  },
  {
   "cell_type": "code",
   "execution_count": 11,
   "metadata": {},
   "outputs": [
    {
     "name": "stdout",
     "output_type": "stream",
     "text": [
      "2 3\n"
     ]
    },
    {
     "data": {
      "text/plain": [
       "['2', '3']"
      ]
     },
     "execution_count": 11,
     "metadata": {},
     "output_type": "execute_result"
    }
   ],
   "source": [
    "input().split(' ')"
   ]
  },
  {
   "cell_type": "code",
   "execution_count": null,
   "metadata": {},
   "outputs": [],
   "source": []
  }
 ],
 "metadata": {
  "kernelspec": {
   "display_name": "Python 3",
   "language": "python",
   "name": "python3"
  },
  "language_info": {
   "codemirror_mode": {
    "name": "ipython",
    "version": 3
   },
   "file_extension": ".py",
   "mimetype": "text/x-python",
   "name": "python",
   "nbconvert_exporter": "python",
   "pygments_lexer": "ipython3",
   "version": "3.7.4"
  }
 },
 "nbformat": 4,
 "nbformat_minor": 4
}
