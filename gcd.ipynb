{
 "cells": [
  {
   "cell_type": "code",
   "execution_count": 7,
   "metadata": {},
   "outputs": [
    {
     "name": "stdout",
     "output_type": "stream",
     "text": [
      "140 = 17 x 8 + 4\n",
      "8 = 2 x 4 + 0\n"
     ]
    },
    {
     "data": {
      "text/plain": [
       "4"
      ]
     },
     "execution_count": 7,
     "metadata": {},
     "output_type": "execute_result"
    }
   ],
   "source": [
    "def gcd(a,b):\n",
    "    if a < b:\n",
    "        a,b = b,a\n",
    "    qn = int(a/b)\n",
    "    rn = a%b\n",
    "    print(f'{a} = {qn} x {b} + {rn}')\n",
    "    if rn != 0:\n",
    "        qn1 = int(b/rn)\n",
    "        rn1 = b%rn\n",
    "        print(f'{b} = {qn1} x {rn} + {rn1}')\n",
    "        if rn1 != 0:\n",
    "            while True:\n",
    "                qn2 = int(rn/rn1)\n",
    "                rn2 = rn%rn1\n",
    "                print(f'{rn} = {qn2} x {rn1} + {rn2}')\n",
    "                if rn2 == 0:\n",
    "                    break\n",
    "                else:\n",
    "                    rn = rn1\n",
    "                    rn1 = rn2\n",
    "            return rn1\n",
    "        else:\n",
    "            return rn\n",
    "    else:\n",
    "        return b\n",
    "    return\n",
    "gcd(140,8)"
   ]
  },
  {
   "cell_type": "code",
   "execution_count": null,
   "metadata": {},
   "outputs": [],
   "source": []
  }
 ],
 "metadata": {
  "kernelspec": {
   "display_name": "Python 3",
   "language": "python",
   "name": "python3"
  },
  "language_info": {
   "codemirror_mode": {
    "name": "ipython",
    "version": 3
   },
   "file_extension": ".py",
   "mimetype": "text/x-python",
   "name": "python",
   "nbconvert_exporter": "python",
   "pygments_lexer": "ipython3",
   "version": "3.7.4"
  }
 },
 "nbformat": 4,
 "nbformat_minor": 2
}
